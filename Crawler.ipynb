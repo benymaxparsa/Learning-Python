{
 "cells": [
  {
   "cell_type": "code",
   "execution_count": 10,
   "metadata": {
    "collapsed": true,
    "pycharm": {
     "name": "#%%\n"
    }
   },
   "outputs": [],
   "source": [
    "import csv\n",
    "from lxml import html\n",
    "import requests"
   ]
  },
  {
   "cell_type": "code",
   "execution_count": 17,
   "outputs": [],
   "source": [
    "link = \"https://apps.apple.com/us/app/subway-surfers/id512939461\""
   ],
   "metadata": {
    "collapsed": false,
    "pycharm": {
     "name": "#%%\n"
    }
   }
  },
  {
   "cell_type": "code",
   "execution_count": 1,
   "outputs": [
    {
     "ename": "NameError",
     "evalue": "name 'requests' is not defined",
     "output_type": "error",
     "traceback": [
      "\u001B[1;31m---------------------------------------------------------------------------\u001B[0m",
      "\u001B[1;31mNameError\u001B[0m                                 Traceback (most recent call last)",
      "\u001B[1;32m<ipython-input-1-774f7e461a52>\u001B[0m in \u001B[0;36m<module>\u001B[1;34m\u001B[0m\n\u001B[1;32m----> 1\u001B[1;33m \u001B[0mstart_page\u001B[0m \u001B[1;33m=\u001B[0m \u001B[0mrequests\u001B[0m\u001B[1;33m.\u001B[0m\u001B[0mget\u001B[0m\u001B[1;33m(\u001B[0m\u001B[0mlink\u001B[0m\u001B[1;33m)\u001B[0m\u001B[1;33m\u001B[0m\u001B[1;33m\u001B[0m\u001B[0m\n\u001B[0m\u001B[0;32m      2\u001B[0m \u001B[1;33m\u001B[0m\u001B[0m\n\u001B[0;32m      3\u001B[0m \u001B[1;33m\u001B[0m\u001B[0m\n",
      "\u001B[1;31mNameError\u001B[0m: name 'requests' is not defined"
     ]
    }
   ],
   "source": [
    "start_page = requests.get(link)\n"
   ],
   "metadata": {
    "collapsed": false,
    "pycharm": {
     "name": "#%%\n"
    }
   }
  },
  {
   "cell_type": "code",
   "execution_count": 6,
   "outputs": [],
   "source": [
    "tree = html.fromstring(start_page.text)"
   ],
   "metadata": {
    "collapsed": false,
    "pycharm": {
     "name": "#%%\n"
    }
   }
  },
  {
   "cell_type": "code",
   "execution_count": 16,
   "outputs": [
    {
     "data": {
      "text/plain": "'Subway Surfer\\u202as\\u202c'"
     },
     "execution_count": 16,
     "metadata": {},
     "output_type": "execute_result"
    }
   ],
   "source": [
    "tree.xpath('//h1[@class=\"product-header__title app-header__title\"]/text()')[0].strip()"
   ],
   "metadata": {
    "collapsed": false,
    "pycharm": {
     "name": "#%%\n"
    }
   }
  },
  {
   "cell_type": "code",
   "execution_count": 1,
   "outputs": [
    {
     "ename": "NameError",
     "evalue": "name 'tree' is not defined",
     "output_type": "error",
     "traceback": [
      "\u001B[1;31m---------------------------------------------------------------------------\u001B[0m",
      "\u001B[1;31mNameError\u001B[0m                                 Traceback (most recent call last)",
      "\u001B[1;32m<ipython-input-1-03eb21f13a63>\u001B[0m in \u001B[0;36m<module>\u001B[1;34m\u001B[0m\n\u001B[1;32m----> 1\u001B[1;33m \u001B[0mtree\u001B[0m\u001B[1;33m.\u001B[0m\u001B[0mxpath\u001B[0m\u001B[1;33m(\u001B[0m\u001B[1;34m'//a[@class=\"link\"]/text()'\u001B[0m\u001B[1;33m)\u001B[0m\u001B[1;33m[\u001B[0m\u001B[1;36m0\u001B[0m\u001B[1;33m]\u001B[0m\u001B[1;33m.\u001B[0m\u001B[0mstrip\u001B[0m\u001B[1;33m(\u001B[0m\u001B[1;33m)\u001B[0m\u001B[1;33m\u001B[0m\u001B[1;33m\u001B[0m\u001B[0m\n\u001B[0m\u001B[0;32m      2\u001B[0m \u001B[1;33m\u001B[0m\u001B[0m\n",
      "\u001B[1;31mNameError\u001B[0m: name 'tree' is not defined"
     ]
    }
   ],
   "source": [
    "tree.xpath('//a[@class=\"link\"]/text()')[0].strip()"
   ],
   "metadata": {
    "collapsed": false,
    "pycharm": {
     "name": "#%%\n"
    }
   }
  },
  {
   "cell_type": "code",
   "execution_count": 22,
   "outputs": [
    {
     "data": {
      "text/plain": "'9+'"
     },
     "execution_count": 22,
     "metadata": {},
     "output_type": "execute_result"
    }
   ],
   "source": [
    "tree.xpath('//span[@class=\"badge badge--product-title\"]/text()')[0].strip()"
   ],
   "metadata": {
    "collapsed": false,
    "pycharm": {
     "name": "#%%\n"
    }
   }
  },
  {
   "cell_type": "code",
   "execution_count": 2,
   "outputs": [
    {
     "ename": "NameError",
     "evalue": "name 'tree' is not defined",
     "output_type": "error",
     "traceback": [
      "\u001B[1;31m---------------------------------------------------------------------------\u001B[0m",
      "\u001B[1;31mNameError\u001B[0m                                 Traceback (most recent call last)",
      "\u001B[1;32m<ipython-input-2-0d18c6f9e677>\u001B[0m in \u001B[0;36m<module>\u001B[1;34m\u001B[0m\n\u001B[1;32m----> 1\u001B[1;33m \u001B[0mtree\u001B[0m\u001B[1;33m.\u001B[0m\u001B[0mxpath\u001B[0m\u001B[1;33m(\u001B[0m\u001B[1;34m'//figcaption[@class=\"we-rating-count star-rating__count\"]/text()'\u001B[0m\u001B[1;33m)\u001B[0m\u001B[1;33m[\u001B[0m\u001B[1;36m0\u001B[0m\u001B[1;33m]\u001B[0m\u001B[1;33m.\u001B[0m\u001B[0mstrip\u001B[0m\u001B[1;33m(\u001B[0m\u001B[1;33m)\u001B[0m\u001B[1;33m\u001B[0m\u001B[1;33m\u001B[0m\u001B[0m\n\u001B[0m\u001B[0;32m      2\u001B[0m \u001B[1;33m\u001B[0m\u001B[0m\n",
      "\u001B[1;31mNameError\u001B[0m: name 'tree' is not defined"
     ]
    }
   ],
   "source": [
    "tree.xpath('//figcaption[@class=\"we-rating-count star-rating__count\"]/text()')[0].strip()"
   ],
   "metadata": {
    "collapsed": false,
    "pycharm": {
     "name": "#%%\n"
    }
   }
  },
  {
   "cell_type": "code",
   "execution_count": 29,
   "outputs": [
    {
     "data": {
      "text/plain": "'Free'"
     },
     "execution_count": 29,
     "metadata": {},
     "output_type": "execute_result"
    }
   ],
   "source": [
    "tree.xpath('//li[@class=\"inline-list__item inline-list__item--bulleted app-header__list__item--price\"]/text()')[0].strip()"
   ],
   "metadata": {
    "collapsed": false,
    "pycharm": {
     "name": "#%%\n"
    }
   }
  },
  {
   "cell_type": "code",
   "execution_count": 33,
   "outputs": [
    {
     "data": {
      "text/plain": "['https://apps.apple.com/us/app/blades-of-brim/id891278325',\n 'https://apps.apple.com/us/app/subway-surfers-sticker-pack/id1439082088',\n 'https://apps.apple.com/us/app/subway-minifig-stickers/id1471360055',\n 'https://apps.apple.com/us/app/temple-run/id420009108',\n 'https://apps.apple.com/us/app/jetpack-joyride/id457446957',\n 'https://apps.apple.com/us/app/angry-gran-run-running-game/id563544551',\n 'https://apps.apple.com/us/app/temple-run-2/id572395608',\n 'https://apps.apple.com/us/app/happy-carpenter-3d/id1503304678',\n 'https://apps.apple.com/us/app/1v1-lol-build-battle-royale/id1508620125']"
     },
     "execution_count": 33,
     "metadata": {},
     "output_type": "execute_result"
    }
   ],
   "source": [
    "tree.xpath('//div[@class=\"l-row l-row--peek\"]/a/@href')"
   ],
   "metadata": {
    "collapsed": false,
    "pycharm": {
     "name": "#%%\n"
    }
   }
  },
  {
   "cell_type": "code",
   "execution_count": 13,
   "outputs": [],
   "source": [
    "class AppCrawler(object):\n",
    "\n",
    "    def __init__(self, starting_url, depth):\n",
    "        self.starting_url = starting_url\n",
    "        self.start_page = requests.get(starting_url)\n",
    "        self.tree = html.fromstring(self.start_page.text)\n",
    "        f = csv.writer(open(\"./websitesInfo.csv\", \"a+\", encoding='utf-8'))\n",
    "\n",
    "    def get_app_from_link(self):\n",
    "        name = self.tree.xpath('//h1[@class=\"product-header__title app-header__title\"]/text()')[0].strip()\n",
    "        developer = self.tree.xpath('//a[@class=\"link\"]/text()')[0].strip()\n",
    "        age = self.tree.xpath('//span[@class=\"badge badge--product-title\"]/text()')[0].strip()\n",
    "        rating = self.tree.xpath('//figcaption[@class=\"we-rating-count star-rating__count\"]/text()')[0].strip()\n",
    "        price = self.tree.xpath('//li[@class=\"inline-list__item inline-list__item--bulleted app-header__list__item--price\"]/text()')[0].strip()\n",
    "        links = self.tree.xpath('//div[@class=\"l-row l-row--peek\"]/a/@href')\n",
    "        print(name)\n",
    "        print(developer)\n",
    "        print(age)\n",
    "        print(rating)\n",
    "        print(price)\n",
    "        print(links)\n",
    "        return\n",
    "\n",
    "    def __call__(self):\n",
    "        self.get_app_from_link()\n",
    "        return"
   ],
   "metadata": {
    "collapsed": false,
    "pycharm": {
     "name": "#%%\n"
    }
   }
  },
  {
   "cell_type": "code",
   "execution_count": 18,
   "outputs": [
    {
     "name": "stdout",
     "output_type": "stream",
     "text": [
      "Subway Surfer‪s‬\n",
      "Sybo Games ApS\n",
      "9+\n",
      "4.6 • 1.1M Ratings\n",
      "Free\n",
      "['https://apps.apple.com/us/app/blades-of-brim/id891278325', 'https://apps.apple.com/us/app/subway-surfers-sticker-pack/id1439082088', 'https://apps.apple.com/us/app/subway-minifig-stickers/id1471360055', 'https://apps.apple.com/us/app/temple-run/id420009108', 'https://apps.apple.com/us/app/jetpack-joyride/id457446957', 'https://apps.apple.com/us/app/angry-gran-run-running-game/id563544551', 'https://apps.apple.com/us/app/temple-run-2/id572395608', 'https://apps.apple.com/us/app/happy-carpenter-3d/id1503304678', 'https://apps.apple.com/us/app/1v1-lol-build-battle-royale/id1508620125']\n"
     ]
    }
   ],
   "source": [
    "crawler = AppCrawler(link, 2)\n",
    "crawler()"
   ],
   "metadata": {
    "collapsed": false,
    "pycharm": {
     "name": "#%%\n"
    }
   }
  },
  {
   "cell_type": "code",
   "execution_count": 19,
   "outputs": [],
   "source": [
    "link = \"https://apps.apple.com/us/app/happy-carpenter-3d/id1503304678\""
   ],
   "metadata": {
    "collapsed": false,
    "pycharm": {
     "name": "#%%\n"
    }
   }
  },
  {
   "cell_type": "code",
   "execution_count": 20,
   "outputs": [
    {
     "name": "stdout",
     "output_type": "stream",
     "text": [
      "Happy Carpenter 3‪D‬\n",
      "皓 刘\n",
      "9+\n",
      "4.4 • 220 Ratings\n",
      "Free\n",
      "['https://apps.apple.com/us/app/happy-drop-it/id1533918090', 'https://apps.apple.com/us/app/hop-race-3d/id1472738854', 'https://apps.apple.com/us/app/magic-tiles-hop-2/id1485358713', 'https://apps.apple.com/us/app/cooking-games-3d/id1495667494', 'https://apps.apple.com/us/app/my-magic-manor/id1509441497', 'https://apps.apple.com/us/app/ninja-critical-hit/id1514055403', 'https://apps.apple.com/us/app/car-against2020/id1519406614']\n"
     ]
    }
   ],
   "source": [
    "crawler = AppCrawler(link, 2)\n",
    "crawler()"
   ],
   "metadata": {
    "collapsed": false,
    "pycharm": {
     "name": "#%%\n"
    }
   }
  },
  {
   "cell_type": "code",
   "execution_count": null,
   "outputs": [],
   "source": [],
   "metadata": {
    "collapsed": false,
    "pycharm": {
     "name": "#%%\n"
    }
   }
  }
 ],
 "metadata": {
  "kernelspec": {
   "display_name": "Python 3",
   "language": "python",
   "name": "python3"
  },
  "language_info": {
   "codemirror_mode": {
    "name": "ipython",
    "version": 2
   },
   "file_extension": ".py",
   "mimetype": "text/x-python",
   "name": "python",
   "nbconvert_exporter": "python",
   "pygments_lexer": "ipython2",
   "version": "2.7.6"
  }
 },
 "nbformat": 4,
 "nbformat_minor": 0
}